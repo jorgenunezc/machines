{
 "cells": [
  {
   "cell_type": "code",
   "execution_count": 1,
   "metadata": {},
   "outputs": [],
   "source": [
    "from datetime import datetime\n",
    "from pandas import read_table, DataFrame\n",
    "import pandas as pd\n",
    "import numpy as np\n",
    "import matplotlib.pyplot as plt\n",
    "\n",
    "\n",
    "obs = pd.read_csv('Datos_Buca.csv')"
   ]
  },
  {
   "cell_type": "code",
   "execution_count": 2,
   "metadata": {},
   "outputs": [
    {
     "data": {
      "text/html": [
       "<div>\n",
       "<style scoped>\n",
       "    .dataframe tbody tr th:only-of-type {\n",
       "        vertical-align: middle;\n",
       "    }\n",
       "\n",
       "    .dataframe tbody tr th {\n",
       "        vertical-align: top;\n",
       "    }\n",
       "\n",
       "    .dataframe thead th {\n",
       "        text-align: right;\n",
       "    }\n",
       "</style>\n",
       "<table border=\"1\" class=\"dataframe\">\n",
       "  <thead>\n",
       "    <tr style=\"text-align: right;\">\n",
       "      <th></th>\n",
       "      <th>datetime</th>\n",
       "      <th>prs [m]</th>\n",
       "      <th>rad [m]</th>\n",
       "    </tr>\n",
       "  </thead>\n",
       "  <tbody>\n",
       "    <tr>\n",
       "      <th>0</th>\n",
       "      <td>2019-08-01 00:00:00</td>\n",
       "      <td>2.42</td>\n",
       "      <td>3.42</td>\n",
       "    </tr>\n",
       "    <tr>\n",
       "      <th>1</th>\n",
       "      <td>2019-08-01 00:01:00</td>\n",
       "      <td>2.41</td>\n",
       "      <td>3.41</td>\n",
       "    </tr>\n",
       "    <tr>\n",
       "      <th>2</th>\n",
       "      <td>2019-08-01 00:02:00</td>\n",
       "      <td>2.35</td>\n",
       "      <td>3.35</td>\n",
       "    </tr>\n",
       "    <tr>\n",
       "      <th>3</th>\n",
       "      <td>2019-08-01 00:03:00</td>\n",
       "      <td>2.39</td>\n",
       "      <td>3.39</td>\n",
       "    </tr>\n",
       "    <tr>\n",
       "      <th>4</th>\n",
       "      <td>2019-08-01 00:04:00</td>\n",
       "      <td>2.40</td>\n",
       "      <td>3.40</td>\n",
       "    </tr>\n",
       "  </tbody>\n",
       "</table>\n",
       "</div>"
      ],
      "text/plain": [
       "              datetime  prs [m]  rad [m]\n",
       "0  2019-08-01 00:00:00     2.42     3.42\n",
       "1  2019-08-01 00:01:00     2.41     3.41\n",
       "2  2019-08-01 00:02:00     2.35     3.35\n",
       "3  2019-08-01 00:03:00     2.39     3.39\n",
       "4  2019-08-01 00:04:00     2.40     3.40"
      ]
     },
     "execution_count": 2,
     "metadata": {},
     "output_type": "execute_result"
    }
   ],
   "source": [
    "obs.head()"
   ]
  },
  {
   "cell_type": "code",
   "execution_count": 3,
   "metadata": {},
   "outputs": [
    {
     "ename": "KeyError",
     "evalue": "'2019-08'",
     "output_type": "error",
     "traceback": [
      "\u001b[0;31m---------------------------------------------------------------------------\u001b[0m",
      "\u001b[0;31mKeyError\u001b[0m                                  Traceback (most recent call last)",
      "\u001b[0;32m~/anaconda3/envs/MachineLearning/lib/python3.7/site-packages/pandas/core/indexes/base.py\u001b[0m in \u001b[0;36mget_loc\u001b[0;34m(self, key, method, tolerance)\u001b[0m\n\u001b[1;32m   2896\u001b[0m             \u001b[0;32mtry\u001b[0m\u001b[0;34m:\u001b[0m\u001b[0;34m\u001b[0m\u001b[0;34m\u001b[0m\u001b[0m\n\u001b[0;32m-> 2897\u001b[0;31m                 \u001b[0;32mreturn\u001b[0m \u001b[0mself\u001b[0m\u001b[0;34m.\u001b[0m\u001b[0m_engine\u001b[0m\u001b[0;34m.\u001b[0m\u001b[0mget_loc\u001b[0m\u001b[0;34m(\u001b[0m\u001b[0mkey\u001b[0m\u001b[0;34m)\u001b[0m\u001b[0;34m\u001b[0m\u001b[0;34m\u001b[0m\u001b[0m\n\u001b[0m\u001b[1;32m   2898\u001b[0m             \u001b[0;32mexcept\u001b[0m \u001b[0mKeyError\u001b[0m\u001b[0;34m:\u001b[0m\u001b[0;34m\u001b[0m\u001b[0;34m\u001b[0m\u001b[0m\n",
      "\u001b[0;32mpandas/_libs/index.pyx\u001b[0m in \u001b[0;36mpandas._libs.index.IndexEngine.get_loc\u001b[0;34m()\u001b[0m\n",
      "\u001b[0;32mpandas/_libs/index.pyx\u001b[0m in \u001b[0;36mpandas._libs.index.IndexEngine.get_loc\u001b[0;34m()\u001b[0m\n",
      "\u001b[0;32mpandas/_libs/hashtable_class_helper.pxi\u001b[0m in \u001b[0;36mpandas._libs.hashtable.PyObjectHashTable.get_item\u001b[0;34m()\u001b[0m\n",
      "\u001b[0;32mpandas/_libs/hashtable_class_helper.pxi\u001b[0m in \u001b[0;36mpandas._libs.hashtable.PyObjectHashTable.get_item\u001b[0;34m()\u001b[0m\n",
      "\u001b[0;31mKeyError\u001b[0m: '2019-08'",
      "\nDuring handling of the above exception, another exception occurred:\n",
      "\u001b[0;31mKeyError\u001b[0m                                  Traceback (most recent call last)",
      "\u001b[0;32m<ipython-input-3-25888aed9253>\u001b[0m in \u001b[0;36m<module>\u001b[0;34m\u001b[0m\n\u001b[0;32m----> 1\u001b[0;31m \u001b[0mobs\u001b[0m\u001b[0;34m[\u001b[0m\u001b[0;34m'2019-08'\u001b[0m\u001b[0;34m]\u001b[0m\u001b[0;34m\u001b[0m\u001b[0;34m\u001b[0m\u001b[0m\n\u001b[0m",
      "\u001b[0;32m~/anaconda3/envs/MachineLearning/lib/python3.7/site-packages/pandas/core/frame.py\u001b[0m in \u001b[0;36m__getitem__\u001b[0;34m(self, key)\u001b[0m\n\u001b[1;32m   2993\u001b[0m             \u001b[0;32mif\u001b[0m \u001b[0mself\u001b[0m\u001b[0;34m.\u001b[0m\u001b[0mcolumns\u001b[0m\u001b[0;34m.\u001b[0m\u001b[0mnlevels\u001b[0m \u001b[0;34m>\u001b[0m \u001b[0;36m1\u001b[0m\u001b[0;34m:\u001b[0m\u001b[0;34m\u001b[0m\u001b[0;34m\u001b[0m\u001b[0m\n\u001b[1;32m   2994\u001b[0m                 \u001b[0;32mreturn\u001b[0m \u001b[0mself\u001b[0m\u001b[0;34m.\u001b[0m\u001b[0m_getitem_multilevel\u001b[0m\u001b[0;34m(\u001b[0m\u001b[0mkey\u001b[0m\u001b[0;34m)\u001b[0m\u001b[0;34m\u001b[0m\u001b[0;34m\u001b[0m\u001b[0m\n\u001b[0;32m-> 2995\u001b[0;31m             \u001b[0mindexer\u001b[0m \u001b[0;34m=\u001b[0m \u001b[0mself\u001b[0m\u001b[0;34m.\u001b[0m\u001b[0mcolumns\u001b[0m\u001b[0;34m.\u001b[0m\u001b[0mget_loc\u001b[0m\u001b[0;34m(\u001b[0m\u001b[0mkey\u001b[0m\u001b[0;34m)\u001b[0m\u001b[0;34m\u001b[0m\u001b[0;34m\u001b[0m\u001b[0m\n\u001b[0m\u001b[1;32m   2996\u001b[0m             \u001b[0;32mif\u001b[0m \u001b[0mis_integer\u001b[0m\u001b[0;34m(\u001b[0m\u001b[0mindexer\u001b[0m\u001b[0;34m)\u001b[0m\u001b[0;34m:\u001b[0m\u001b[0;34m\u001b[0m\u001b[0;34m\u001b[0m\u001b[0m\n\u001b[1;32m   2997\u001b[0m                 \u001b[0mindexer\u001b[0m \u001b[0;34m=\u001b[0m \u001b[0;34m[\u001b[0m\u001b[0mindexer\u001b[0m\u001b[0;34m]\u001b[0m\u001b[0;34m\u001b[0m\u001b[0;34m\u001b[0m\u001b[0m\n",
      "\u001b[0;32m~/anaconda3/envs/MachineLearning/lib/python3.7/site-packages/pandas/core/indexes/base.py\u001b[0m in \u001b[0;36mget_loc\u001b[0;34m(self, key, method, tolerance)\u001b[0m\n\u001b[1;32m   2897\u001b[0m                 \u001b[0;32mreturn\u001b[0m \u001b[0mself\u001b[0m\u001b[0;34m.\u001b[0m\u001b[0m_engine\u001b[0m\u001b[0;34m.\u001b[0m\u001b[0mget_loc\u001b[0m\u001b[0;34m(\u001b[0m\u001b[0mkey\u001b[0m\u001b[0;34m)\u001b[0m\u001b[0;34m\u001b[0m\u001b[0;34m\u001b[0m\u001b[0m\n\u001b[1;32m   2898\u001b[0m             \u001b[0;32mexcept\u001b[0m \u001b[0mKeyError\u001b[0m\u001b[0;34m:\u001b[0m\u001b[0;34m\u001b[0m\u001b[0;34m\u001b[0m\u001b[0m\n\u001b[0;32m-> 2899\u001b[0;31m                 \u001b[0;32mreturn\u001b[0m \u001b[0mself\u001b[0m\u001b[0;34m.\u001b[0m\u001b[0m_engine\u001b[0m\u001b[0;34m.\u001b[0m\u001b[0mget_loc\u001b[0m\u001b[0;34m(\u001b[0m\u001b[0mself\u001b[0m\u001b[0;34m.\u001b[0m\u001b[0m_maybe_cast_indexer\u001b[0m\u001b[0;34m(\u001b[0m\u001b[0mkey\u001b[0m\u001b[0;34m)\u001b[0m\u001b[0;34m)\u001b[0m\u001b[0;34m\u001b[0m\u001b[0;34m\u001b[0m\u001b[0m\n\u001b[0m\u001b[1;32m   2900\u001b[0m         \u001b[0mindexer\u001b[0m \u001b[0;34m=\u001b[0m \u001b[0mself\u001b[0m\u001b[0;34m.\u001b[0m\u001b[0mget_indexer\u001b[0m\u001b[0;34m(\u001b[0m\u001b[0;34m[\u001b[0m\u001b[0mkey\u001b[0m\u001b[0;34m]\u001b[0m\u001b[0;34m,\u001b[0m \u001b[0mmethod\u001b[0m\u001b[0;34m=\u001b[0m\u001b[0mmethod\u001b[0m\u001b[0;34m,\u001b[0m \u001b[0mtolerance\u001b[0m\u001b[0;34m=\u001b[0m\u001b[0mtolerance\u001b[0m\u001b[0;34m)\u001b[0m\u001b[0;34m\u001b[0m\u001b[0;34m\u001b[0m\u001b[0m\n\u001b[1;32m   2901\u001b[0m         \u001b[0;32mif\u001b[0m \u001b[0mindexer\u001b[0m\u001b[0;34m.\u001b[0m\u001b[0mndim\u001b[0m \u001b[0;34m>\u001b[0m \u001b[0;36m1\u001b[0m \u001b[0;32mor\u001b[0m \u001b[0mindexer\u001b[0m\u001b[0;34m.\u001b[0m\u001b[0msize\u001b[0m \u001b[0;34m>\u001b[0m \u001b[0;36m1\u001b[0m\u001b[0;34m:\u001b[0m\u001b[0;34m\u001b[0m\u001b[0;34m\u001b[0m\u001b[0m\n",
      "\u001b[0;32mpandas/_libs/index.pyx\u001b[0m in \u001b[0;36mpandas._libs.index.IndexEngine.get_loc\u001b[0;34m()\u001b[0m\n",
      "\u001b[0;32mpandas/_libs/index.pyx\u001b[0m in \u001b[0;36mpandas._libs.index.IndexEngine.get_loc\u001b[0;34m()\u001b[0m\n",
      "\u001b[0;32mpandas/_libs/hashtable_class_helper.pxi\u001b[0m in \u001b[0;36mpandas._libs.hashtable.PyObjectHashTable.get_item\u001b[0;34m()\u001b[0m\n",
      "\u001b[0;32mpandas/_libs/hashtable_class_helper.pxi\u001b[0m in \u001b[0;36mpandas._libs.hashtable.PyObjectHashTable.get_item\u001b[0;34m()\u001b[0m\n",
      "\u001b[0;31mKeyError\u001b[0m: '2019-08'"
     ]
    }
   ],
   "source": [
    "obs['2019-08']"
   ]
  },
  {
   "cell_type": "code",
   "execution_count": 3,
   "metadata": {},
   "outputs": [],
   "source": [
    "dtime = []\n",
    "for i in range (len(obs)):\n",
    "    year = obs['year'][i]\n",
    "    month = obs['month'][i]\n",
    "    day = obs['day'][i]\n",
    "    hour = obs['hour'][i]\n",
    "    minu = obs['minu'][i]\n",
    "    dt = datetime(year, month,day, hour,minu)\n",
    "    dt = pd.to_datetime(dt)\n",
    "    dtime.append(dt)\n",
    "    \n",
    "obs['datetime']=dtime\n"
   ]
  },
  {
   "cell_type": "code",
   "execution_count": 4,
   "metadata": {},
   "outputs": [
    {
     "data": {
      "text/html": [
       "<div>\n",
       "<style scoped>\n",
       "    .dataframe tbody tr th:only-of-type {\n",
       "        vertical-align: middle;\n",
       "    }\n",
       "\n",
       "    .dataframe tbody tr th {\n",
       "        vertical-align: top;\n",
       "    }\n",
       "\n",
       "    .dataframe thead th {\n",
       "        text-align: right;\n",
       "    }\n",
       "</style>\n",
       "<table border=\"1\" class=\"dataframe\">\n",
       "  <thead>\n",
       "    <tr style=\"text-align: right;\">\n",
       "      <th></th>\n",
       "      <th>day</th>\n",
       "      <th>month</th>\n",
       "      <th>year</th>\n",
       "      <th>hour</th>\n",
       "      <th>minu</th>\n",
       "      <th>elev</th>\n",
       "      <th>datetime</th>\n",
       "    </tr>\n",
       "  </thead>\n",
       "  <tbody>\n",
       "    <tr>\n",
       "      <th>0</th>\n",
       "      <td>23</td>\n",
       "      <td>10</td>\n",
       "      <td>2018</td>\n",
       "      <td>22</td>\n",
       "      <td>56</td>\n",
       "      <td>2.40</td>\n",
       "      <td>2018-10-23 22:56:00</td>\n",
       "    </tr>\n",
       "    <tr>\n",
       "      <th>1</th>\n",
       "      <td>23</td>\n",
       "      <td>10</td>\n",
       "      <td>2018</td>\n",
       "      <td>22</td>\n",
       "      <td>57</td>\n",
       "      <td>2.41</td>\n",
       "      <td>2018-10-23 22:57:00</td>\n",
       "    </tr>\n",
       "    <tr>\n",
       "      <th>2</th>\n",
       "      <td>23</td>\n",
       "      <td>10</td>\n",
       "      <td>2018</td>\n",
       "      <td>22</td>\n",
       "      <td>58</td>\n",
       "      <td>2.42</td>\n",
       "      <td>2018-10-23 22:58:00</td>\n",
       "    </tr>\n",
       "    <tr>\n",
       "      <th>3</th>\n",
       "      <td>23</td>\n",
       "      <td>10</td>\n",
       "      <td>2018</td>\n",
       "      <td>22</td>\n",
       "      <td>59</td>\n",
       "      <td>2.47</td>\n",
       "      <td>2018-10-23 22:59:00</td>\n",
       "    </tr>\n",
       "    <tr>\n",
       "      <th>4</th>\n",
       "      <td>23</td>\n",
       "      <td>10</td>\n",
       "      <td>2018</td>\n",
       "      <td>23</td>\n",
       "      <td>0</td>\n",
       "      <td>2.44</td>\n",
       "      <td>2018-10-23 23:00:00</td>\n",
       "    </tr>\n",
       "    <tr>\n",
       "      <th>...</th>\n",
       "      <td>...</td>\n",
       "      <td>...</td>\n",
       "      <td>...</td>\n",
       "      <td>...</td>\n",
       "      <td>...</td>\n",
       "      <td>...</td>\n",
       "      <td>...</td>\n",
       "    </tr>\n",
       "    <tr>\n",
       "      <th>38323</th>\n",
       "      <td>22</td>\n",
       "      <td>11</td>\n",
       "      <td>2018</td>\n",
       "      <td>21</td>\n",
       "      <td>44</td>\n",
       "      <td>2.14</td>\n",
       "      <td>2018-11-22 21:44:00</td>\n",
       "    </tr>\n",
       "    <tr>\n",
       "      <th>38324</th>\n",
       "      <td>22</td>\n",
       "      <td>11</td>\n",
       "      <td>2018</td>\n",
       "      <td>21</td>\n",
       "      <td>45</td>\n",
       "      <td>2.17</td>\n",
       "      <td>2018-11-22 21:45:00</td>\n",
       "    </tr>\n",
       "    <tr>\n",
       "      <th>38325</th>\n",
       "      <td>22</td>\n",
       "      <td>11</td>\n",
       "      <td>2018</td>\n",
       "      <td>21</td>\n",
       "      <td>46</td>\n",
       "      <td>2.12</td>\n",
       "      <td>2018-11-22 21:46:00</td>\n",
       "    </tr>\n",
       "    <tr>\n",
       "      <th>38326</th>\n",
       "      <td>22</td>\n",
       "      <td>11</td>\n",
       "      <td>2018</td>\n",
       "      <td>21</td>\n",
       "      <td>47</td>\n",
       "      <td>2.17</td>\n",
       "      <td>2018-11-22 21:47:00</td>\n",
       "    </tr>\n",
       "    <tr>\n",
       "      <th>38327</th>\n",
       "      <td>22</td>\n",
       "      <td>11</td>\n",
       "      <td>2018</td>\n",
       "      <td>21</td>\n",
       "      <td>48</td>\n",
       "      <td>2.15</td>\n",
       "      <td>2018-11-22 21:48:00</td>\n",
       "    </tr>\n",
       "  </tbody>\n",
       "</table>\n",
       "<p>38328 rows × 7 columns</p>\n",
       "</div>"
      ],
      "text/plain": [
       "       day  month  year  hour  minu  elev            datetime\n",
       "0       23     10  2018    22    56  2.40 2018-10-23 22:56:00\n",
       "1       23     10  2018    22    57  2.41 2018-10-23 22:57:00\n",
       "2       23     10  2018    22    58  2.42 2018-10-23 22:58:00\n",
       "3       23     10  2018    22    59  2.47 2018-10-23 22:59:00\n",
       "4       23     10  2018    23     0  2.44 2018-10-23 23:00:00\n",
       "...    ...    ...   ...   ...   ...   ...                 ...\n",
       "38323   22     11  2018    21    44  2.14 2018-11-22 21:44:00\n",
       "38324   22     11  2018    21    45  2.17 2018-11-22 21:45:00\n",
       "38325   22     11  2018    21    46  2.12 2018-11-22 21:46:00\n",
       "38326   22     11  2018    21    47  2.17 2018-11-22 21:47:00\n",
       "38327   22     11  2018    21    48  2.15 2018-11-22 21:48:00\n",
       "\n",
       "[38328 rows x 7 columns]"
      ]
     },
     "execution_count": 4,
     "metadata": {},
     "output_type": "execute_result"
    }
   ],
   "source": [
    "obs"
   ]
  },
  {
   "cell_type": "code",
   "execution_count": 5,
   "metadata": {},
   "outputs": [],
   "source": [
    "obs['datetime']= pd.to_datetime(obs[\"datetime\"])\n",
    "indexobs = obs[\"datetime\"]\n",
    "elev = list(obs[\"elev\"])\n",
    "obs = pd.DataFrame(data = {'elev':elev}, index= indexobs)"
   ]
  },
  {
   "cell_type": "code",
   "execution_count": 6,
   "metadata": {},
   "outputs": [
    {
     "data": {
      "text/html": [
       "<div>\n",
       "<style scoped>\n",
       "    .dataframe tbody tr th:only-of-type {\n",
       "        vertical-align: middle;\n",
       "    }\n",
       "\n",
       "    .dataframe tbody tr th {\n",
       "        vertical-align: top;\n",
       "    }\n",
       "\n",
       "    .dataframe thead th {\n",
       "        text-align: right;\n",
       "    }\n",
       "</style>\n",
       "<table border=\"1\" class=\"dataframe\">\n",
       "  <thead>\n",
       "    <tr style=\"text-align: right;\">\n",
       "      <th></th>\n",
       "      <th>elev</th>\n",
       "    </tr>\n",
       "  </thead>\n",
       "  <tbody>\n",
       "    <tr>\n",
       "      <th>count</th>\n",
       "      <td>38328.000000</td>\n",
       "    </tr>\n",
       "    <tr>\n",
       "      <th>mean</th>\n",
       "      <td>2.296628</td>\n",
       "    </tr>\n",
       "    <tr>\n",
       "      <th>std</th>\n",
       "      <td>0.362558</td>\n",
       "    </tr>\n",
       "    <tr>\n",
       "      <th>min</th>\n",
       "      <td>1.460000</td>\n",
       "    </tr>\n",
       "    <tr>\n",
       "      <th>25%</th>\n",
       "      <td>2.000000</td>\n",
       "    </tr>\n",
       "    <tr>\n",
       "      <th>50%</th>\n",
       "      <td>2.290000</td>\n",
       "    </tr>\n",
       "    <tr>\n",
       "      <th>75%</th>\n",
       "      <td>2.590000</td>\n",
       "    </tr>\n",
       "    <tr>\n",
       "      <th>max</th>\n",
       "      <td>3.230000</td>\n",
       "    </tr>\n",
       "  </tbody>\n",
       "</table>\n",
       "</div>"
      ],
      "text/plain": [
       "               elev\n",
       "count  38328.000000\n",
       "mean       2.296628\n",
       "std        0.362558\n",
       "min        1.460000\n",
       "25%        2.000000\n",
       "50%        2.290000\n",
       "75%        2.590000\n",
       "max        3.230000"
      ]
     },
     "execution_count": 6,
     "metadata": {},
     "output_type": "execute_result"
    }
   ],
   "source": [
    "obs.describe()"
   ]
  },
  {
   "cell_type": "markdown",
   "metadata": {},
   "source": [
    "promedios horarios"
   ]
  },
  {
   "cell_type": "code",
   "execution_count": 7,
   "metadata": {},
   "outputs": [],
   "source": [
    "obs = obs.resample('H').mean()"
   ]
  },
  {
   "cell_type": "code",
   "execution_count": 8,
   "metadata": {},
   "outputs": [
    {
     "name": "stderr",
     "output_type": "stream",
     "text": [
      "/home/lenovio/anaconda3/envs/MachineLearning/lib/python3.7/site-packages/pandas/plotting/_matplotlib/converter.py:103: FutureWarning: Using an implicitly registered datetime converter for a matplotlib plotting method. The converter was registered by pandas on import. Future versions of pandas will require you to explicitly register matplotlib converters.\n",
      "\n",
      "To register the converters:\n",
      "\t>>> from pandas.plotting import register_matplotlib_converters\n",
      "\t>>> register_matplotlib_converters()\n",
      "  warnings.warn(msg, FutureWarning)\n"
     ]
    },
    {
     "data": {
      "text/plain": [
       "(array([736991., 736992., 736993., 736994., 736995., 736996., 736997.,\n",
       "        736998.]), <a list of 8 Text xticklabel objects>)"
      ]
     },
     "execution_count": 8,
     "metadata": {},
     "output_type": "execute_result"
    },
    {
     "data": {
      "image/png": "[encoded data removed]",
      "text/plain": [
       "<Figure size 1152x432 with 1 Axes>"
      ]
     },
     "metadata": {
      "needs_background": "light"
     },
     "output_type": "display_data"
    }
   ],
   "source": [
    "fig, ax = plt.subplots(figsize=(16, 6))\n",
    "ax.plot(obs.index[0:180], obs['elev'][0:180], alpha=0.5)\n",
    "plt.xticks(rotation='vertical')"
   ]
  },
  {
   "cell_type": "code",
   "execution_count": 9,
   "metadata": {},
   "outputs": [
    {
     "data": {
      "text/html": [
       "<div>\n",
       "<style scoped>\n",
       "    .dataframe tbody tr th:only-of-type {\n",
       "        vertical-align: middle;\n",
       "    }\n",
       "\n",
       "    .dataframe tbody tr th {\n",
       "        vertical-align: top;\n",
       "    }\n",
       "\n",
       "    .dataframe thead th {\n",
       "        text-align: right;\n",
       "    }\n",
       "</style>\n",
       "<table border=\"1\" class=\"dataframe\">\n",
       "  <thead>\n",
       "    <tr style=\"text-align: right;\">\n",
       "      <th></th>\n",
       "      <th>elev</th>\n",
       "    </tr>\n",
       "  </thead>\n",
       "  <tbody>\n",
       "    <tr>\n",
       "      <th>count</th>\n",
       "      <td>720.000000</td>\n",
       "    </tr>\n",
       "    <tr>\n",
       "      <th>mean</th>\n",
       "      <td>2.304206</td>\n",
       "    </tr>\n",
       "    <tr>\n",
       "      <th>std</th>\n",
       "      <td>0.360512</td>\n",
       "    </tr>\n",
       "    <tr>\n",
       "      <th>min</th>\n",
       "      <td>1.622826</td>\n",
       "    </tr>\n",
       "    <tr>\n",
       "      <th>25%</th>\n",
       "      <td>2.005750</td>\n",
       "    </tr>\n",
       "    <tr>\n",
       "      <th>50%</th>\n",
       "      <td>2.302083</td>\n",
       "    </tr>\n",
       "    <tr>\n",
       "      <th>75%</th>\n",
       "      <td>2.595757</td>\n",
       "    </tr>\n",
       "    <tr>\n",
       "      <th>max</th>\n",
       "      <td>3.127755</td>\n",
       "    </tr>\n",
       "  </tbody>\n",
       "</table>\n",
       "</div>"
      ],
      "text/plain": [
       "             elev\n",
       "count  720.000000\n",
       "mean     2.304206\n",
       "std      0.360512\n",
       "min      1.622826\n",
       "25%      2.005750\n",
       "50%      2.302083\n",
       "75%      2.595757\n",
       "max      3.127755"
      ]
     },
     "execution_count": 9,
     "metadata": {},
     "output_type": "execute_result"
    }
   ],
   "source": [
    "obs.describe()"
   ]
  },
  {
   "cell_type": "code",
   "execution_count": 15,
   "metadata": {},
   "outputs": [],
   "source": [
    "dti = pd.date_range('2018-11-28', periods=30*24+1, freq='2T')\n",
    "dti = dti.tolist()\n",
    "dti = np.array(dti)\n",
    "\n",
    "dti2 = obs.index.tolist()\n",
    "dti2 = np.array(dti2)"
   ]
  },
  {
   "cell_type": "code",
   "execution_count": 12,
   "metadata": {},
   "outputs": [],
   "source": [
    "import ttide\n",
    "from ttide.t_tide import t_tide"
   ]
  },
  {
   "cell_type": "code",
   "execution_count": 16,
   "metadata": {},
   "outputs": [
    {
     "name": "stdout",
     "output_type": "stream",
     "text": [
      "-----------------------------------\n",
      "nobs = 720 \n",
      "ngood = 719 \n",
      "record length (days) = 30.00\n",
      "start time: 2018-10-23 21:59:59\n",
      "rayleigh criterion = 1.0\n",
      "\n",
      "Greenwich phase computed with nodal\n",
      "                   corrections applied to amplitude\n",
      "                   and phase relative to center time\n",
      "\n",
      "x0= 2.3  xtrend= 0\n",
      "var(data)= 0.13    var(prediction)= 0.13    var(residual)= 0.00\n",
      "var(prediction)/var(data) (%) = 97.6\n",
      "\n",
      "        tidal amplitude and phase with 95 % CI estimates\n",
      " tide      freq        amp      amp_err   pha      pha_err    snr\n",
      "  MSF   0.0028219     0.0198     0.025     37.34     90.41      0.63\n",
      "  2Q1   0.0357064     0.0014     0.004    124.16     95.09      0.11\n",
      "* Q1    0.0372185     0.0169     0.003    322.57     21.56        23\n",
      "* O1    0.0387307     0.0964     0.005    347.76      2.99   4.6e+02\n",
      "  NO1   0.0402686     0.0051     0.005    243.29     51.79         1\n",
      "* K1    0.0417807     0.1522     0.007     12.82      0.75   4.3e+02\n",
      "* J1    0.0432929     0.0085     0.004    138.61     34.62       3.7\n",
      "  OO1   0.0448308     0.0012     0.005    129.49    176.88     0.069\n",
      "  UPS1  0.0463430     0.0038     0.004    228.62    111.42      0.88\n",
      "* N2    0.0789992     0.0800     0.011     21.15      9.31        56\n",
      "* M2    0.0805114     0.4376     0.011     45.47      1.51   1.7e+03\n",
      "* S2    0.0833333     0.1599     0.011     51.32      4.78   2.1e+02\n",
      "  ETA2  0.0850736     0.0062     0.012    140.93    127.13      0.26\n",
      "  MO3   0.1192421     0.0006     0.002    230.01    166.32       0.1\n",
      "* M3    0.1207671     0.0027     0.002    229.12     40.27       2.4\n",
      "  MK3   0.1222921     0.0009     0.002     59.15    126.74      0.35\n",
      "* SK3   0.1251141     0.0042     0.002    157.77     32.06       4.2\n",
      "  MN4   0.1595106     0.0010     0.002     78.30    172.26      0.18\n",
      "  M4    0.1610228     0.0007     0.002     38.74    190.51     0.094\n",
      "  MS4   0.1638447     0.0019     0.003    165.17     98.61       0.5\n",
      "  S4    0.1666667     0.0024     0.003    187.15     82.18      0.88\n",
      "  2MK5  0.2028035     0.0014     0.002     70.11     96.18       0.6\n",
      "  2SK5  0.2084474     0.0012     0.002    198.87    107.23      0.53\n",
      "  2MN6  0.2400221     0.0014     0.003    211.12    120.16      0.19\n",
      "  M6    0.2415342     0.0010     0.003    304.02    160.38      0.17\n",
      "  2MS6  0.2443561     0.0006     0.003    280.65    191.63     0.053\n",
      "  2SM6  0.2471781     0.0024     0.004    287.28     90.92      0.44\n",
      "  3MK7  0.2833149     0.0008     0.001    123.44    129.71      0.26\n",
      "  M8    0.3220456     0.0006     0.002    154.19    175.50      0.11\n"
     ]
    },
    {
     "name": "stderr",
     "output_type": "stream",
     "text": [
      "/home/lenovio/ttide/t_tide.py:295: FutureWarning: `rcond` parameter will change to the default of machine precision times ``max(M, N)`` where M and N are the input matrix dimensions.\n",
      "To use the future default and silence this warning we advise to pass `rcond=None`, to keep using the old, explicitly pass `rcond=-1`.\n",
      "  coef = np.linalg.lstsq(tc[gd, :], xin[gd])[0].T\n",
      "/home/lenovio/anaconda3/envs/MachineLearning/lib/python3.7/site-packages/numpy/lib/type_check.py:161: FutureWarning: `real` is deprecated and will be removed in a future version. To eliminate this warning for a Series `ser`, use `np.real(ser.to_numpy())` or `ser.to_numpy().real`.\n",
      "  return val.real\n",
      "/home/lenovio/anaconda3/envs/MachineLearning/lib/python3.7/site-packages/numpy/lib/type_check.py:204: FutureWarning: `imag` is deprecated and will be removed in a future version. To eliminate this warning for a Series `ser`, use `np.imag(ser.to_numpy())` or `ser.to_numpy().imag`.\n",
      "  return val.imag\n",
      "/home/lenovio/ttide/t_utils.py:447: FutureWarning: `real` is deprecated and will be removed in a future version. To eliminate this warning for a Series `ser`, use `np.real(ser.to_numpy())` or `ser.to_numpy().real`.\n",
      "  x = np.var(out['xingd'].real, ddof=1)\n",
      "/home/lenovio/ttide/t_utils.py:449: FutureWarning: `real` is deprecated and will be removed in a future version. To eliminate this warning for a Series `ser`, use `np.real(ser.to_numpy())` or `ser.to_numpy().real`.\n",
      "  xr = np.var(out['xresgd'].real, ddof=1)\n"
     ]
    }
   ],
   "source": [
    "\n",
    "LatV = -33.02730833\n",
    "out_tide_V= t_tide(obs['elev'], dt=1,stime=dti2[0] ,lat=LatV)"
   ]
  },
  {
   "cell_type": "code",
   "execution_count": null,
   "metadata": {},
   "outputs": [],
   "source": [
    "valores = out_tide_V['tidecon']\n",
    "names2 = out_tide_V['nameu']\n",
    "names = ['MSF', '2Q1', 'Q1', 'O1', 'NO1', 'K1', 'J1', 'OO1',\n",
    "       'UPS1', 'N2', 'M2', 'S2', 'ETA2', 'MO3', 'M3', 'MK3',\n",
    "       'SK3', 'MN4', 'M4', 'MS4', 'S4', '2MK5', '2SK5', '2MN6',\n",
    "       'M6', '2MS6', '2SM6', '3MK7', 'M8']\n",
    "variables = ['amp','amp-err','pha','pha-err']\n",
    "freq = out_tide_V['fu']\n",
    "noise = out_tide_V['snr']\n",
    "\n",
    "result_tide= pd.DataFrame(data =valores, index = names, columns = variables)\n",
    "result_tide['freq']= freq\n",
    "result_tide['snr']= noise\n",
    "\n",
    "result_tide"
   ]
  },
  {
   "cell_type": "code",
   "execution_count": null,
   "metadata": {},
   "outputs": [],
   "source": [
    "t = np.linspace(0,719,720)\n",
    "a0 = 2.296628 "
   ]
  },
  {
   "cell_type": "code",
   "execution_count": null,
   "metadata": {},
   "outputs": [],
   "source": [
    "M2 =  result_tide['amp']['M2']*np.cos(2*np.pi*result_tide['freq']['M2']*t-result_tide['pha']['M2'])\n",
    "S2 =  result_tide['amp']['S2']*np.cos(2*np.pi*result_tide['freq']['S2']*t-result_tide['pha']['S2'])\n",
    "K1 =  result_tide['amp']['K1']*np.cos(2*np.pi*result_tide['freq']['K1']*t-result_tide['pha']['K1'])\n",
    "O1 =  result_tide['amp']['O1']*np.cos(2*np.pi*result_tide['freq']['O1']*t-result_tide['pha']['O1'])\n",
    "N2 =  result_tide['amp']['N2']*np.cos(2*np.pi*result_tide['freq']['N2']*t-result_tide['pha']['N2'])\n",
    "M3 =  result_tide['amp']['M3']*np.cos(2*np.pi*result_tide['freq']['M3']*t-result_tide['pha']['M3'])\n",
    "Q1 =  result_tide['amp']['Q1']*np.cos(2*np.pi*result_tide['freq']['Q1']*t-result_tide['pha']['Q1'])\n",
    "SK3 = result_tide['amp']['SK3']*np.cos(2*np.pi*result_tide['freq']['SK3']*t-result_tide['pha']['SK3'])\n"
   ]
  },
  {
   "cell_type": "code",
   "execution_count": null,
   "metadata": {},
   "outputs": [],
   "source": [
    "fig, (ax0, ax1, ax2, ax3, ax4) = plt.subplots(nrows=5, sharey=True, sharex=True, figsize=(16, 10))\n",
    "\n",
    "ax0.plot(obs.index[0:25], M2[0:25], label=u'Principal Lunar')\n",
    "ax0.legend(numpoints=1, loc='lower right')\n",
    "\n",
    "ax1.plot(obs.index[0:25],S2[0:25], alpha=0.5, label=u'Principal Solar')\n",
    "ax1.legend(numpoints=1, loc='lower right')\n",
    "\n",
    "ax2.plot(obs.index[0:25], K1[0:25], alpha=0.5, label=u'Luni Solar Diurnal')\n",
    "_ = ax2.legend(numpoints=1, loc='lower right')\n",
    "\n",
    "ax3.plot(obs.index[0:25], (M2+S2+K1+O1*N2+M3+Q1+SK3)[0:25]+a0, alpha=0.5, label=u'Nivel medio mas componentes')\n",
    "_ = ax3.legend(numpoints=1, loc='lower right')\n",
    "\n",
    "ax4.plot(obs.index[0:25],  obs['elev'][0:25], alpha=0.5, label=u'Nivel real')\n",
    "_ = ax4.legend(numpoints=1, loc='lower right')\n"
   ]
  },
  {
   "cell_type": "markdown",
   "metadata": {},
   "source": [
    "## Pronostico T_TIDE"
   ]
  },
  {
   "cell_type": "code",
   "execution_count": null,
   "metadata": {},
   "outputs": [],
   "source": [
    "from ttide import t_predic"
   ]
  },
  {
   "cell_type": "code",
   "execution_count": null,
   "metadata": {},
   "outputs": [],
   "source": [
    "t_time  = dti\n",
    "names = names2\n",
    "freq = freq\n",
    "tidecon = valores\n",
    "pred = t_predic(t_time,names,freq,tidecon)"
   ]
  },
  {
   "cell_type": "code",
   "execution_count": null,
   "metadata": {},
   "outputs": [],
   "source": [
    "pred2 = t_predic(dti2,names,freq,tidecon)"
   ]
  },
  {
   "cell_type": "code",
   "execution_count": null,
   "metadata": {},
   "outputs": [],
   "source": [
    "fig, (ax0,ax4) = plt.subplots(nrows=2, sharey=True, sharex=True, figsize=(16, 10))\n",
    "\n",
    "ax0.plot( dti2,pred2+a0, alpha=0.5, label=u'Pronostico t_tide')\n",
    "_ = ax0.legend(numpoints=1, loc='upper right')\n",
    "\n",
    "ax4.plot(obs.index,  obs['elev'], alpha=0.5, label=u'Nivel real')\n",
    "_ = ax4.legend(numpoints=1, loc='lower right')\n",
    "\n"
   ]
  },
  {
   "cell_type": "code",
   "execution_count": null,
   "metadata": {},
   "outputs": [],
   "source": [
    "fig, (ax0) = plt.subplots(nrows=1, sharey=True, sharex=True, figsize=(16, 10))\n",
    "\n",
    "ax0.plot( dti,pred+a0, alpha=0.5, label=u'Pronostico mareas 28 Octubre 2T')\n",
    "_ = ax0.legend(numpoints=1, loc='upper right')"
   ]
  },
  {
   "cell_type": "code",
   "execution_count": null,
   "metadata": {},
   "outputs": [],
   "source": []
  }
 ],
 "metadata": {
  "kernelspec": {
   "display_name": "Python 3",
   "language": "python",
   "name": "python3"
  },
  "language_info": {
   "codemirror_mode": {
    "name": "ipython",
    "version": 3
   },
   "file_extension": ".py",
   "mimetype": "text/x-python",
   "name": "python",
   "nbconvert_exporter": "python",
   "pygments_lexer": "ipython3",
   "version": "3.7.4"
  }
 },
 "nbformat": 4,
 "nbformat_minor": 2
}
